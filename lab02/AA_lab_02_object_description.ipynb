{
 "cells": [
  {
   "cell_type": "markdown",
   "metadata": {},
   "source": [
    "# [IAPR 2020:][iapr2020] Lab 2 ‒  Object description\n",
    "\n",
    "-----------:) \n",
    "\n",
    "[iapr2020]: https://github.com/LTS5/iapr-2020"
   ]
  },
  {
   "cell_type": "markdown",
   "metadata": {},
   "source": [
    "## Extract relevant data\n",
    "We first need to extract the `lab-02-data.tar.gz` archive.\n",
    "To this end, we use the [tarfile] module from the Python standard library.\n",
    "\n",
    "[tarfile]: https://docs.python.org/3.6/library/tarfile.html"
   ]
  },
  {
   "cell_type": "code",
   "execution_count": 1,
   "metadata": {},
   "outputs": [
    {
     "data": {
      "text/plain": [
       "<module 'lab02_functions' from '/Users/anne-aimee/Desktop/ImageAnalysisLabs/lab02/lab02_functions.py'>"
      ]
     },
     "execution_count": 1,
     "metadata": {},
     "output_type": "execute_result"
    }
   ],
   "source": [
    "import importlib\n",
    "import matplotlib.pyplot as plt\n",
    "import numpy as np\n",
    "import os\n",
    "\n",
    "import lab02_functions as imPro\n",
    "import skimage\n",
    "import skimage.transform\n",
    "from numpy.fft import fft\n",
    "\n",
    "importlib.reload(imPro)"
   ]
  },
  {
   "cell_type": "markdown",
   "metadata": {},
   "source": [
    "## Part 1\n",
    "In the `lab-02-data/part1` folder, you will find 28x28 grey-scale pictures of handwritten \"0\" and \"1\".\n",
    "These digits have been extracted from MNIST dataset (http://yann.lecun.com/exdb/mnist/).\n",
    "\n",
    "Your goal is to extract, from each of those images, a 2-dimensional feature vector (i.e. 2 features) and to plot them all on a 2D graph.\n",
    "If you have chosen good features, the vectors of the \"0\"'s should nicely cluster in one part of the plane and those of the \"1\"'s in another.\n",
    "\n",
    "Please try first the Fourier Descriptors.\n",
    "You can make several attempts: e.g. with and without invariance to rotation, translation, scaling, etc.\n",
    "You can also for instance rotate the images and assess the invariance in rotation.\n",
    "\n",
    "**Note:** for the Fourier descriptors, the u_k signal has to be constructed by following the contour point after point.\n",
    "Some pre-processing (image binarization, possibly some Mathematical Morphology) might be useful.\n",
    "\n",
    "Then feel free to try other features, the more you try, the better it will be (for you)."
   ]
  },
  {
   "cell_type": "markdown",
   "metadata": {},
   "source": [
    "### 1.1 Data visualization"
   ]
  },
  {
   "cell_type": "code",
   "execution_count": 2,
   "metadata": {},
   "outputs": [],
   "source": [
    "zeros=imPro.get_zeros()\n",
    "ones = imPro.get_ones()"
   ]
  },
  {
   "cell_type": "markdown",
   "metadata": {},
   "source": [
    "### Region based descriptors"
   ]
  },
  {
   "cell_type": "markdown",
   "metadata": {},
   "source": [
    "We tested several region based descriptors : area and area in the polygon connecting the contour points, perimeter\n",
    "wich are shift and rotation invariant but still scale variant. We can integrate them in the compacity descriptor, which becomes scale invariant. We also tested projection (which is variant in translation, rotation and scaling) and moments, invariant in translation, and moments, which can be tuned to standard centered moments and become invariant to rotation, shift and scaling.\n"
   ]
  },
  {
   "cell_type": "code",
   "execution_count": 3,
   "metadata": {},
   "outputs": [],
   "source": [
    "\n",
    "def binarize(image):\n",
    "    t =skimage.filters.threshold_mean(image)\n",
    "    return image>t\n",
    "\n",
    "#%% Region based Descriptors\n",
    "\n",
    "def area(image):\n",
    "    \"\"\"\n",
    "    Returns the area of the number\n",
    "    :param image:  grayscale image of a number (white number on black background)\n",
    "    \"\"\"\n",
    "    area=np.count_nonzero(image)\n",
    "    return area\n",
    "\n",
    "\n",
    "def perimeter(image):\n",
    "    \"\"\"\n",
    "    Returns the perimeter of the number\n",
    "    :param image:  grayscale image of a number (white number on black background)\n",
    "    \"\"\"\n",
    "    perimeter=np.array(imPro.get_outmost_contour(img)).shape[1]\n",
    "    return perimeter\n",
    "\n",
    "def area_polygon(image):\n",
    "    \"\"\"\n",
    "    Returns the area in the polygon connecting the contour points of the number\n",
    "    :param image:  grayscale image of a number (white number on black background)\n",
    "    \"\"\"\n",
    "    nb_inside= area(image)-perimeter(image)\n",
    "    areap= perimeter(image)/2 +nb_inside -1\n",
    "    return areap\n",
    "\n",
    "def compacity(image):\n",
    "    \"\"\"\n",
    "    Returns the compacity of the number\n",
    "    :param image:  grayscale image of a number (white number on black background)\n",
    "    \"\"\"\n",
    "    return perimeter(image)**2/area(image)\n",
    "\n",
    "def projection(image):\n",
    "    proj_x=[]\n",
    "    proj_y=[]\n",
    "    for i in range(image[0].shape[0]) :\n",
    "        proj_y.append(np.count_nonzero(image[i]))\n",
    "    for j in range (image[1].shape[0]):\n",
    "        proj_x.append(np.count_nonzero(image[j]))\n",
    "    return proj_x,proj_y"
   ]
  },
  {
   "cell_type": "code",
   "execution_count": 4,
   "metadata": {},
   "outputs": [],
   "source": [
    "def moment (image,i,j) :\n",
    "    m= 0\n",
    "    for k in range(image[0].shape[0]):\n",
    "        for l in range(image[0].shape[0]):\n",
    "            m=m+pow(k,i)*pow(l,j)*image[k,l]/256\n",
    "    return m\n",
    "\n",
    "def centers_gravity (image):\n",
    "    kc=moment(image,1,0)/moment(image,0,0)\n",
    "    lc=moment(image,0,1)/moment(image,0,0)\n",
    "    return [kc,lc]\n",
    "\n",
    "def centered_moments(image,i,j,scaling_invariant=False) : #invariant to translation : center of gravity as origin\n",
    "    mc= 0\n",
    "    for k in range(image[0].shape[0]):\n",
    "        for l in range(image[0].shape[0]):\n",
    "            mc=mc+pow(k-centers_gravity(image)[0],i)*pow(l-centers_gravity(image)[1],j)*image[k,l]/256\n",
    "    if scaling_invariant :\n",
    "        gamma=int((i+j)/2)+1\n",
    "        mc=centered_moments(image,i,j)/centered_moments(image,0,0)**gamma\n",
    "    return mc\n",
    "\n",
    "def standard_centered_moments(image,order=1,scaling_invariant=False):\n",
    "    if (order==1):\n",
    "        return centered_moments(image,2,0,scaling_invariant)+centered_moments(image,0,2,scaling_invariant)\n",
    "    if (order==2):\n",
    "        return (centered_moments(image,2,0,scaling_invariant)-centered_moments(image,0,2,scaling_invariant))**2 +4*centered_moments(image,1,1,scaling_invariant)\n",
    "    if (order==3):\n",
    "        return (centered_moments(image,3,0,scaling_invariant)-3*centered_moments(image,1,2,scaling_invariant))**2 + (3*centered_moments(image,2,1,scaling_invariant)-centered_moments(image,0,3,scaling_invariant))**2\n",
    "    if (order==4) :\n",
    "        return (centered_moments(image,3,0,scaling_invariant)+centered_moments(image,1,2,scaling_invariant))**2 + (centered_moments(image,2,1,scaling_invariant)+centered_moments(image,0,3,scaling_invariant))**2  \n",
    "    return "
   ]
  },
  {
   "cell_type": "code",
   "execution_count": 28,
   "metadata": {},
   "outputs": [],
   "source": [
    "def region_based_features(images):\n",
    "    \"\"\"\n",
    "    Returns an array of region based features for all the images in the input\n",
    "    \n",
    "    :param images:  group of grayscale images of numbers\n",
    "    :return: param_images np.array of all the region based features of the input images\n",
    "    \"\"\"\n",
    "    param_images = []\n",
    "    for img in images:\n",
    "        binary= binarize(img)\n",
    "        param=[]\n",
    "        param.append(area(binary))\n",
    "        param.append(perimeter(binary))\n",
    "        param.append(compacity(img))\n",
    "        param.append(standard_centered_moments(img,1,False))\n",
    "        param.append(standard_centered_moments(img,1,True))\n",
    "        param_images.append(param)\n",
    "    param_images = np.array(param_images)\n",
    "    return param_images"
   ]
  },
  {
   "cell_type": "code",
   "execution_count": 29,
   "metadata": {},
   "outputs": [],
   "source": [
    "param_zeros=region_based_features(zeros)\n",
    "param_ones=region_based_features(ones)"
   ]
  },
  {
   "cell_type": "code",
   "execution_count": 31,
   "metadata": {},
   "outputs": [
    {
     "ename": "AttributeError",
     "evalue": "'numpy.ndarray' object has no attribute 'plot'",
     "output_type": "error",
     "traceback": [
      "\u001b[0;31m---------------------------------------------------------------------------\u001b[0m",
      "\u001b[0;31mAttributeError\u001b[0m                            Traceback (most recent call last)",
      "\u001b[0;32m<ipython-input-31-b4128834a04f>\u001b[0m in \u001b[0;36m<module>\u001b[0;34m\u001b[0m\n\u001b[1;32m      2\u001b[0m \u001b[0mfig\u001b[0m\u001b[0;34m,\u001b[0m \u001b[0maxs\u001b[0m \u001b[0;34m=\u001b[0m \u001b[0mplt\u001b[0m\u001b[0;34m.\u001b[0m\u001b[0msubplots\u001b[0m\u001b[0;34m(\u001b[0m\u001b[0;36m2\u001b[0m\u001b[0;34m,\u001b[0m\u001b[0;36m4\u001b[0m\u001b[0;34m,\u001b[0m \u001b[0mfigsize\u001b[0m \u001b[0;34m=\u001b[0m \u001b[0;34m(\u001b[0m\u001b[0;36m15\u001b[0m\u001b[0;34m,\u001b[0m\u001b[0;36m8\u001b[0m\u001b[0;34m)\u001b[0m\u001b[0;34m)\u001b[0m\u001b[0;34m\u001b[0m\u001b[0;34m\u001b[0m\u001b[0m\n\u001b[1;32m      3\u001b[0m \u001b[0;34m\u001b[0m\u001b[0m\n\u001b[0;32m----> 4\u001b[0;31m \u001b[0maxs\u001b[0m\u001b[0;34m[\u001b[0m\u001b[0;36m0\u001b[0m\u001b[0;34m]\u001b[0m\u001b[0;34m.\u001b[0m\u001b[0mplot\u001b[0m\u001b[0;34m(\u001b[0m\u001b[0mparam_zeros\u001b[0m\u001b[0;34m[\u001b[0m\u001b[0;34m:\u001b[0m\u001b[0;34m,\u001b[0m\u001b[0;36m0\u001b[0m\u001b[0;34m]\u001b[0m\u001b[0;34m,\u001b[0m \u001b[0mparam_zeros\u001b[0m\u001b[0;34m[\u001b[0m\u001b[0;34m:\u001b[0m\u001b[0;34m,\u001b[0m\u001b[0;36m1\u001b[0m\u001b[0;34m]\u001b[0m\u001b[0;34m,\u001b[0m\u001b[0;34m'.b'\u001b[0m\u001b[0;34m,\u001b[0m \u001b[0mlabel\u001b[0m \u001b[0;34m=\u001b[0m \u001b[0;34m'zeros'\u001b[0m\u001b[0;34m)\u001b[0m\u001b[0;34m\u001b[0m\u001b[0;34m\u001b[0m\u001b[0m\n\u001b[0m\u001b[1;32m      5\u001b[0m \u001b[0maxs\u001b[0m\u001b[0;34m[\u001b[0m\u001b[0;36m0\u001b[0m\u001b[0;34m]\u001b[0m\u001b[0;34m.\u001b[0m\u001b[0mplot\u001b[0m\u001b[0;34m(\u001b[0m\u001b[0mparam_ones\u001b[0m\u001b[0;34m[\u001b[0m\u001b[0;34m:\u001b[0m\u001b[0;34m,\u001b[0m\u001b[0;36m0\u001b[0m\u001b[0;34m]\u001b[0m\u001b[0;34m,\u001b[0m \u001b[0mparam_ones\u001b[0m\u001b[0;34m[\u001b[0m\u001b[0;34m:\u001b[0m\u001b[0;34m,\u001b[0m\u001b[0;36m1\u001b[0m\u001b[0;34m]\u001b[0m\u001b[0;34m,\u001b[0m\u001b[0;34m'.r'\u001b[0m\u001b[0;34m,\u001b[0m \u001b[0mlabel\u001b[0m \u001b[0;34m=\u001b[0m \u001b[0;34m'ones'\u001b[0m\u001b[0;34m)\u001b[0m\u001b[0;34m\u001b[0m\u001b[0;34m\u001b[0m\u001b[0m\n\u001b[1;32m      6\u001b[0m \u001b[0maxs\u001b[0m\u001b[0;34m[\u001b[0m\u001b[0;36m0\u001b[0m\u001b[0;34m]\u001b[0m\u001b[0;34m.\u001b[0m\u001b[0mset_xlabel\u001b[0m\u001b[0;34m(\u001b[0m\u001b[0;34m'Area '\u001b[0m\u001b[0;34m)\u001b[0m\u001b[0;34m\u001b[0m\u001b[0;34m\u001b[0m\u001b[0m\n",
      "\u001b[0;31mAttributeError\u001b[0m: 'numpy.ndarray' object has no attribute 'plot'"
     ]
    },
    {
     "data": {
      "text/plain": [
       "<Figure size 432x288 with 0 Axes>"
      ]
     },
     "metadata": {},
     "output_type": "display_data"
    },
    {
     "data": {
      "image/png": "[encoded data removed]",
      "text/plain": [
       "<Figure size 1080x576 with 8 Axes>"
      ]
     },
     "metadata": {
      "needs_background": "light"
     },
     "output_type": "display_data"
    }
   ],
   "source": [
    "plt.figure()\n",
    "fig, axs = plt.subplots(2,4, figsize = (15,8))\n",
    "\n",
    "axs[0].plot(param_zeros[:,0], param_zeros[:,1],'.b', label = 'zeros')\n",
    "axs[0].plot(param_ones[:,0], param_ones[:,1],'.r', label = 'ones')\n",
    "axs[0].set_xlabel('Area ')\n",
    "axs[0].set_ylabel('Perimeter ')\n",
    "axs[0].set_title('Region based descriptors')\n",
    "axs[0].legend()\n",
    "\n",
    "axs[1].plot(param_zeros[:,2], param_zeros[:,2],'.b', label = 'zeros')\n",
    "axs[1].plot(param_ones[:,3], param_ones[:,3],'.r', label = 'ones')\n",
    "axs[1].set_xlabel('Compacity ')\n",
    "axs[1].set_ylabel('centered moments ')\n",
    "axs[1].set_title('Region based descriptors')\n",
    "axs[1].legend()\n",
    "\n",
    "axs[2].plot(param_zeros[:,0], param_zeros[:,4],'.b', label = 'zeros')\n",
    "axs[2].plot(param_ones[:,0], param_ones[:,4],'.r', label = 'ones')\n",
    "axs[2].set_xlabel('Area ')\n",
    "axs[2].set_ylabel('Standard centered moment ')\n",
    "axs[2].set_title('Region based descriptors')\n",
    "axs[2].legend()\n",
    "\n",
    "axs[3].plot(param_zeros[:,2], param_zeros[:,4],'.b', label = 'zeros')\n",
    "axs[3].plot(param_ones[:,2], param_ones[:,4],'.r', label = 'ones')\n",
    "axs[3].set_xlabel('Compacity ')\n",
    "axs[3].set_ylabel('Standard centered moment ')\n",
    "axs[3].set_title('Region based descriptors')\n",
    "axs[3].legend()\n",
    "\n",
    "plt.show()"
   ]
  },
  {
   "cell_type": "markdown",
   "metadata": {},
   "source": [
    "The first plot indicates the differences between the area of the numbers calculated on the binary version compared to the area of the numbers on the original images.\n",
    "It seems that there is small differences, that should be taken into account for choosing the parameters of interest"
   ]
  },
  {
   "cell_type": "markdown",
   "metadata": {},
   "source": [
    "### 1.2 Fourier descriptors\n",
    "Add your implementation and discussion"
   ]
  },
  {
   "cell_type": "markdown",
   "metadata": {},
   "source": [
    "### 1.3 Additional method(s)\n",
    "Add your implementation and discussion"
   ]
  },
  {
   "cell_type": "markdown",
   "metadata": {},
   "source": [
    "## Part 2\n",
    "The `lab-02-data/part2` folder contains grey-scale pictures of handwritten \"2\" and \"3\".\n",
    "Extract the same feature (typically 2 Fourier descriptors) as in part 1 also on these images and plot them on the same graph as the features of the \"0\" and \"1\".\n",
    "Is it possible to discriminate all these 4 digits with a 2-dimensional feature vector?"
   ]
  },
  {
   "cell_type": "markdown",
   "metadata": {},
   "source": [
    "### 2.1 Data visualization"
   ]
  },
  {
   "cell_type": "code",
   "execution_count": 32,
   "metadata": {},
   "outputs": [
    {
     "data": {
      "image/png": "[encoded data removed]",
      "text/plain": [
       "<Figure size 864x216 with 20 Axes>"
      ]
     },
     "metadata": {
      "needs_background": "light"
     },
     "output_type": "display_data"
    }
   ],
   "source": [
    "#  Load zeros\n",
    "twos_path = 'lab-02-data/part2/2'\n",
    "twos_names = [nm for nm in os.listdir(twos_path) if '.png' in nm]  # make sure to only load .png\n",
    "twos_names.sort()  # sort file names\n",
    "ic = skimage.io.imread_collection([os.path.join(twos_path, nm) for nm in twos_names])\n",
    "twos_im = skimage.io.concatenate_images(ic)\n",
    "#  Load ones\n",
    "threes_path = 'lab-02-data/part2/3'\n",
    "threes_names = [nm for nm in os.listdir(threes_path) if '.png' in nm]  # make sure to only load .png\n",
    "threes_names.sort()  # sort file names\n",
    "ic = skimage.io.imread_collection(([os.path.join(threes_path, nm) for nm in threes_names]))\n",
    "threes_im = skimage.io.concatenate_images(ic)\n",
    "\n",
    "# Plot images\n",
    "fig, axes = plt.subplots(2, len(twos_im), figsize=(12, 3))\n",
    "for ax, im, nm in zip(axes[0], twos_im, twos_names):\n",
    "    ax.imshow(im, cmap='gray')\n",
    "    ax.axis('off')\n",
    "    ax.set_title(nm)\n",
    "for ax, im, nm in zip(axes[1], threes_im, threes_names):\n",
    "    ax.imshow(im, cmap='gray')\n",
    "    ax.axis('off')\n",
    "    ax.set_title(nm)"
   ]
  },
  {
   "cell_type": "markdown",
   "metadata": {},
   "source": [
    "### 2.2 Additional method(s) and conclusion\n",
    "Add your implementations and discussions here"
   ]
  },
  {
   "cell_type": "code",
   "execution_count": null,
   "metadata": {},
   "outputs": [],
   "source": []
  },
  {
   "cell_type": "code",
   "execution_count": 30,
   "metadata": {},
   "outputs": [
    {
     "ename": "NameError",
     "evalue": "name 'twos_im' is not defined",
     "output_type": "error",
     "traceback": [
      "\u001b[0;31m---------------------------------------------------------------------------\u001b[0m",
      "\u001b[0;31mNameError\u001b[0m                                 Traceback (most recent call last)",
      "\u001b[0;32m<ipython-input-30-98d63fdf7867>\u001b[0m in \u001b[0;36m<module>\u001b[0;34m\u001b[0m\n\u001b[0;32m----> 1\u001b[0;31m \u001b[0mparam_twos\u001b[0m\u001b[0;34m=\u001b[0m \u001b[0mregion_based_features\u001b[0m\u001b[0;34m(\u001b[0m\u001b[0mtwos_im\u001b[0m\u001b[0;34m)\u001b[0m\u001b[0;34m\u001b[0m\u001b[0;34m\u001b[0m\u001b[0m\n\u001b[0m\u001b[1;32m      2\u001b[0m \u001b[0mparam_threes\u001b[0m \u001b[0;34m=\u001b[0m \u001b[0mregion_based_features\u001b[0m\u001b[0;34m(\u001b[0m\u001b[0mthrees_im\u001b[0m\u001b[0;34m)\u001b[0m\u001b[0;34m\u001b[0m\u001b[0;34m\u001b[0m\u001b[0m\n",
      "\u001b[0;31mNameError\u001b[0m: name 'twos_im' is not defined"
     ]
    }
   ],
   "source": [
    "param_twos= region_based_features(twos_im)\n",
    "param_threes = region_based_features(threes_im)"
   ]
  },
  {
   "cell_type": "code",
   "execution_count": 33,
   "metadata": {},
   "outputs": [
    {
     "ename": "AttributeError",
     "evalue": "'numpy.ndarray' object has no attribute 'plot'",
     "output_type": "error",
     "traceback": [
      "\u001b[0;31m---------------------------------------------------------------------------\u001b[0m",
      "\u001b[0;31mAttributeError\u001b[0m                            Traceback (most recent call last)",
      "\u001b[0;32m<ipython-input-33-b4128834a04f>\u001b[0m in \u001b[0;36m<module>\u001b[0;34m\u001b[0m\n\u001b[1;32m      2\u001b[0m \u001b[0mfig\u001b[0m\u001b[0;34m,\u001b[0m \u001b[0maxs\u001b[0m \u001b[0;34m=\u001b[0m \u001b[0mplt\u001b[0m\u001b[0;34m.\u001b[0m\u001b[0msubplots\u001b[0m\u001b[0;34m(\u001b[0m\u001b[0;36m2\u001b[0m\u001b[0;34m,\u001b[0m\u001b[0;36m4\u001b[0m\u001b[0;34m,\u001b[0m \u001b[0mfigsize\u001b[0m \u001b[0;34m=\u001b[0m \u001b[0;34m(\u001b[0m\u001b[0;36m15\u001b[0m\u001b[0;34m,\u001b[0m\u001b[0;36m8\u001b[0m\u001b[0;34m)\u001b[0m\u001b[0;34m)\u001b[0m\u001b[0;34m\u001b[0m\u001b[0;34m\u001b[0m\u001b[0m\n\u001b[1;32m      3\u001b[0m \u001b[0;34m\u001b[0m\u001b[0m\n\u001b[0;32m----> 4\u001b[0;31m \u001b[0maxs\u001b[0m\u001b[0;34m[\u001b[0m\u001b[0;36m0\u001b[0m\u001b[0;34m]\u001b[0m\u001b[0;34m.\u001b[0m\u001b[0mplot\u001b[0m\u001b[0;34m(\u001b[0m\u001b[0mparam_zeros\u001b[0m\u001b[0;34m[\u001b[0m\u001b[0;34m:\u001b[0m\u001b[0;34m,\u001b[0m\u001b[0;36m0\u001b[0m\u001b[0;34m]\u001b[0m\u001b[0;34m,\u001b[0m \u001b[0mparam_zeros\u001b[0m\u001b[0;34m[\u001b[0m\u001b[0;34m:\u001b[0m\u001b[0;34m,\u001b[0m\u001b[0;36m1\u001b[0m\u001b[0;34m]\u001b[0m\u001b[0;34m,\u001b[0m\u001b[0;34m'.b'\u001b[0m\u001b[0;34m,\u001b[0m \u001b[0mlabel\u001b[0m \u001b[0;34m=\u001b[0m \u001b[0;34m'zeros'\u001b[0m\u001b[0;34m)\u001b[0m\u001b[0;34m\u001b[0m\u001b[0;34m\u001b[0m\u001b[0m\n\u001b[0m\u001b[1;32m      5\u001b[0m \u001b[0maxs\u001b[0m\u001b[0;34m[\u001b[0m\u001b[0;36m0\u001b[0m\u001b[0;34m]\u001b[0m\u001b[0;34m.\u001b[0m\u001b[0mplot\u001b[0m\u001b[0;34m(\u001b[0m\u001b[0mparam_ones\u001b[0m\u001b[0;34m[\u001b[0m\u001b[0;34m:\u001b[0m\u001b[0;34m,\u001b[0m\u001b[0;36m0\u001b[0m\u001b[0;34m]\u001b[0m\u001b[0;34m,\u001b[0m \u001b[0mparam_ones\u001b[0m\u001b[0;34m[\u001b[0m\u001b[0;34m:\u001b[0m\u001b[0;34m,\u001b[0m\u001b[0;36m1\u001b[0m\u001b[0;34m]\u001b[0m\u001b[0;34m,\u001b[0m\u001b[0;34m'.r'\u001b[0m\u001b[0;34m,\u001b[0m \u001b[0mlabel\u001b[0m \u001b[0;34m=\u001b[0m \u001b[0;34m'ones'\u001b[0m\u001b[0;34m)\u001b[0m\u001b[0;34m\u001b[0m\u001b[0;34m\u001b[0m\u001b[0m\n\u001b[1;32m      6\u001b[0m \u001b[0maxs\u001b[0m\u001b[0;34m[\u001b[0m\u001b[0;36m0\u001b[0m\u001b[0;34m]\u001b[0m\u001b[0;34m.\u001b[0m\u001b[0mset_xlabel\u001b[0m\u001b[0;34m(\u001b[0m\u001b[0;34m'Area '\u001b[0m\u001b[0;34m)\u001b[0m\u001b[0;34m\u001b[0m\u001b[0;34m\u001b[0m\u001b[0m\n",
      "\u001b[0;31mAttributeError\u001b[0m: 'numpy.ndarray' object has no attribute 'plot'"
     ]
    },
    {
     "data": {
      "text/plain": [
       "<Figure size 432x288 with 0 Axes>"
      ]
     },
     "metadata": {},
     "output_type": "display_data"
    },
    {
     "data": {
      "image/png": "[encoded data removed]",
      "text/plain": [
       "<Figure size 1080x576 with 8 Axes>"
      ]
     },
     "metadata": {
      "needs_background": "light"
     },
     "output_type": "display_data"
    }
   ],
   "source": [
    "\n",
    "\n",
    "plt.figure()\n",
    "fig, axs = plt.subplots(2,4, figsize = (15,8))\n",
    "\n",
    "axs[0].plot(param_zeros[:,0], param_zeros[:,1],'.b', label = 'zeros')\n",
    "axs[0].plot(param_ones[:,0], param_ones[:,1],'.r', label = 'ones')\n",
    "axs[0].set_xlabel('Area ')\n",
    "axs[0].set_ylabel('Perimeter ')\n",
    "axs[0].set_title('Region based descriptors')\n",
    "axs[0].legend()\n",
    "\n",
    "axs[1].plot(param_zeros[:,2], param_zeros[:,2],'.b', label = 'zeros')\n",
    "axs[1].plot(param_ones[:,3], param_ones[:,3],'.r', label = 'ones')\n",
    "axs[1].set_xlabel('Compacity ')\n",
    "axs[1].set_ylabel('centered moments ')\n",
    "axs[1].set_title('Region based descriptors')\n",
    "axs[1].legend()\n",
    "\n",
    "axs[2].plot(param_zeros[:,0], param_zeros[:,4],'.b', label = 'zeros')\n",
    "axs[2].plot(param_ones[:,0], param_ones[:,4],'.r', label = 'ones')\n",
    "axs[2].set_xlabel('Area ')\n",
    "axs[2].set_ylabel('Standard centered moment ')\n",
    "axs[2].set_title('Region based descriptors')\n",
    "axs[2].legend()\n",
    "\n",
    "axs[3].plot(param_zeros[:,2], param_zeros[:,4],'.b', label = 'zeros')\n",
    "axs[3].plot(param_ones[:,2], param_ones[:,4],'.r', label = 'ones')\n",
    "axs[3].set_xlabel('Compacity ')\n",
    "axs[3].set_ylabel('Standard centered moment ')\n",
    "axs[3].set_title('Region based descriptors')\n",
    "axs[3].legend()\n",
    "\n",
    "plt.show()"
   ]
  },
  {
   "cell_type": "code",
   "execution_count": null,
   "metadata": {},
   "outputs": [],
   "source": []
  }
 ],
 "metadata": {
  "kernelspec": {
   "display_name": "Python 3",
   "language": "python",
   "name": "python3"
  },
  "language_info": {
   "codemirror_mode": {
    "name": "ipython",
    "version": 3
   },
   "file_extension": ".py",
   "mimetype": "text/x-python",
   "name": "python",
   "nbconvert_exporter": "python",
   "pygments_lexer": "ipython3",
   "version": "3.7.4"
  }
 },
 "nbformat": 4,
 "nbformat_minor": 4
}
