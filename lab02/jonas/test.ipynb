{
 "cells": [
  {
   "cell_type": "markdown",
   "metadata": {
    "nteract": {
     "transient": {
      "deleting": false
     }
    }
   },
   "source": [
    "## Skeletonize approach for feature extraction\n",
    " In this section a morphological approach is used to extract features of\n",
    " objects\n",
    "## Imports:\n"
   ]
  },
  {
   "cell_type": "code",
   "execution_count": 6,
   "metadata": {
    "nteract": {
     "transient": {
      "deleting": false
     }
    },
    "outputExpanded": false
   },
   "outputs": [],
   "source": [
    "import numpy as np\n",
    "import os\n",
    "import skimage.io\n",
    "import skimage.morphology as morph\n",
    "import matplotlib.pyplot as plt\n"
   ]
  },
  {
   "cell_type": "markdown",
   "metadata": {
    "nteract": {
     "transient": {
      "deleting": false
     }
    }
   },
   "source": [
    "## FUNC DEF\n"
   ]
  },
  {
   "cell_type": "code",
   "execution_count": 7,
   "metadata": {
    "nteract": {
     "transient": {
      "deleting": false
     }
    },
    "outputExpanded": false
   },
   "outputs": [],
   "source": [
    "\n",
    "def mirrored_periodisation(idx,N):\n",
    "    ''' mirrored periodisation of signal of length N evaluated at index current_idx\n",
    "        For a signal s={...0,0,|0|,1,2,3,0,0,...} the result is\n",
    "        s_p={...2,1,|0|,1,2,3,2,1,0,1,...}\n",
    "        \\param N        support of signal, in example above N=4\n",
    "        \\param idx      index where to evaluate periodic version s_p ot s\n",
    "    '''\n",
    "    if idx<0:\n",
    "        idx=-idx\n",
    "    elif idx>=N:\n",
    "        #try and write it out if you want to understand...\n",
    "        #...it is just a mathematical expression for a mirrored periodic sequence of indices\n",
    "        idx=(int(idx/(N-1))%2)*(N-1-idx%(N-1))+(1-int(idx/(N-1))%2)*(idx%(N-1))\n",
    "\n",
    "    #recursive correction\n",
    "    if idx<0 or idx>=N:\n",
    "        idx=mirrored_periodisation(idx,N);\n",
    "\n",
    "    #retunr equivalent index in bounds [0;N-1]\n",
    "    return idx\n",
    "\n",
    "def get_nbh(img,x,y,w=3,h=3):\n",
    "    ''' get neighbourhood around x,y pixel with mirrored periodisation, works\n",
    "        only with odd w,h! no test if odd or even, so be careful!\n",
    "        \\param w,h      width of nbh, height of nbh. Must be odd\n",
    "        \\param x,y      position where nbh is extracted\n",
    "    '''\n",
    "    nx,ny=img.shape\n",
    "    delta_w=int(w/2)\n",
    "    delta_h=int(h/2)\n",
    "\n",
    "    nbh=np.zeros((w,h))\n",
    "    for xx in range(x-delta_w,x+delta_w+1):\n",
    "        for yy in range(y-delta_h,y+delta_h+1):\n",
    "            #get equivalent idx in case of values out of bounds\n",
    "            x_idx=mirrored_periodisation(xx,nx)\n",
    "            y_idx=mirrored_periodisation(yy,ny)\n",
    "            #put values in nbh, origin (x,y) in the middle of nbh\n",
    "            nbh[xx-x+delta_w][yy-y+delta_h]=img[x_idx][y_idx]\n",
    "\n",
    "    return nbh\n",
    "\n",
    "def load_img_seq(file_path, format='.png'):\n",
    "    img_names = [nm for nm in os.listdir(file_path) if format in nm]  # make sure to only load .png\n",
    "    img_names.sort()  # sort file names\n",
    "    ic = skimage.io.imread_collection([os.path.join(file_path, nm) for nm in img_names])\n",
    "    img_seq = skimage.io.concatenate_images(ic)\n",
    "    return img_seq\n",
    "\n",
    "def com(img):\n",
    "    ''' computes center of mass of image, taking pixel values as weights and x,y\n",
    "        pixel coordinates as the weights' position\n",
    "    '''\n",
    "    nx,ny=img.shape\n",
    "    mid_x=int(nx/2)\n",
    "    mid_y=int(ny/2)\n",
    "    M=0\n",
    "    x_M=0\n",
    "    y_M=0\n",
    "    m_i=0\n",
    "\n",
    "    for x in range(nx):\n",
    "        for y in range(ny):\n",
    "            m_i=img[x,y];\n",
    "            M+=m_i;\n",
    "            x_M+=(x-mid_x)*m_i;\n",
    "            y_M+=(y-mid_y)*m_i;\n",
    "\n",
    "    return (x_M/M,y_M/M)\n",
    "\n",
    "def object_covar_mat(img):\n",
    "    '''\n",
    "    '''\n",
    "    x_bar,y_bar=com(img)\n",
    "    nx,ny=img.shape\n",
    "    #generate x and y grids\n",
    "    x = np.linspace(-nx/2, nx/2, nx)\n",
    "    y = np.linspace(-ny/2, ny/2, ny)\n",
    "    xv, yv = np.meshgrid(x, y)\n",
    "    #substract center of mass\n",
    "    xv-=x_bar\n",
    "    yv-=y_bar\n",
    "    #set to zero non object coordinates\n",
    "    xv[img==0]=0\n",
    "    yv[img==0]=0\n",
    "    #compute covariance matrix\n",
    "    sigma_xx=np.sum(xv**2)\n",
    "    sigma_yy=np.sum(yv**2)\n",
    "    sigma_xy=np.sum(xv*yv)\n",
    "\n",
    "    return np.array([[sigma_xx, sigma_xy],[sigma_xy, sigma_yy]])\n",
    "\n",
    "def compute_angle(covar_mat):\n",
    "    return np.arctan2(2*covar_mat[0,1],covar_mat[0,0]-covar_mat[1,1])/2\n",
    "\n",
    "def skel_and_thld(img):\n",
    "    #thld img\n",
    "    img[img>0]=1\n",
    "    #skeletonize\n",
    "    return morph.skeletonize(img)\n",
    "\n",
    "def skel_img_stack(img_stack):\n",
    "    skel_stack=[]\n",
    "    for img in img_stack:\n",
    "        #thld img\n",
    "        img[img>0]=1\n",
    "        #skeletonize\n",
    "        skel_stack.append(morph.skeletonize(img))\n",
    "\n",
    "    return skel_stack\n",
    "\n",
    "def dist_map(img,direct_dist=3,diag_dist=4):\n",
    "    nx,ny=img.shape\n",
    "    #init output\n",
    "    out=img.copy()\n",
    "    out[img!=0]=0\n",
    "    out[img==0]=img.size*diag_dist\n",
    "    #define distance map\n",
    "    dist_m=np.array([[diag_dist,direct_dist,diag_dist],[direct_dist,0,direct_dist],[diag_dist,direct_dist,diag_dist]])\n",
    "    #8-connect mask\n",
    "    eval_forward=np.array([[True,True,False],[True,True,False],[True,False,False]])\n",
    "    eval_backward=np.array([[False,False,True],[False,True,True],[False,True,True]])\n",
    "\n",
    "    #scan image forwards:\n",
    "    for x in range(nx):\n",
    "        for y in range(ny):\n",
    "            nbh=get_nbh(out,x,y)\n",
    "            nbh+=dist_m\n",
    "            out[x,y]=np.amin(nbh[eval_forward])\n",
    "    #scan image backwards\n",
    "    for x in range(nx-1,-1,-1):\n",
    "        for y in range(ny-1,-1,-1):\n",
    "            nbh=get_nbh(out,x,y)\n",
    "            nbh+=dist_m\n",
    "            out[x,y]=np.amin(nbh[eval_backward])\n",
    "\n",
    "    return out\n"
   ]
  },
  {
   "cell_type": "markdown",
   "metadata": {
    "nteract": {
     "transient": {
      "deleting": false
     }
    }
   },
   "source": [
    "## Skeletonize the images:\n"
   ]
  },
  {
   "cell_type": "code",
   "execution_count": 8,
   "metadata": {
    "nteract": {
     "transient": {
      "deleting": false
     }
    },
    "outputExpanded": false
   },
   "outputs": [
    {
     "ename": "FileNotFoundError",
     "evalue": "[WinError 3] The system cannot find the path specified: './lab-02-data/part1/0'",
     "output_type": "error",
     "traceback": [
      "\u001b[1;31m---------------------------------------------------------------------------\u001b[0m",
      "\u001b[1;31mFileNotFoundError\u001b[0m                         Traceback (most recent call last)",
      "\u001b[1;32m<ipython-input-8-142a59581983>\u001b[0m in \u001b[0;36m<module>\u001b[1;34m\u001b[0m\n\u001b[0;32m      1\u001b[0m \u001b[1;31m#load image stacks\u001b[0m\u001b[1;33m\u001b[0m\u001b[1;33m\u001b[0m\u001b[1;33m\u001b[0m\u001b[0m\n\u001b[0;32m      2\u001b[0m \u001b[0mpath_to_img_data\u001b[0m\u001b[1;33m=\u001b[0m\u001b[1;34m'./lab-02-data/part1/'\u001b[0m\u001b[1;33m\u001b[0m\u001b[1;33m\u001b[0m\u001b[0m\n\u001b[1;32m----> 3\u001b[1;33m \u001b[0mimg_zeros\u001b[0m\u001b[1;33m=\u001b[0m\u001b[0mload_img_seq\u001b[0m\u001b[1;33m(\u001b[0m\u001b[0mos\u001b[0m\u001b[1;33m.\u001b[0m\u001b[0mpath\u001b[0m\u001b[1;33m.\u001b[0m\u001b[0mjoin\u001b[0m\u001b[1;33m(\u001b[0m\u001b[0mpath_to_img_data\u001b[0m\u001b[1;33m,\u001b[0m \u001b[1;34m'0'\u001b[0m\u001b[1;33m)\u001b[0m\u001b[1;33m)\u001b[0m\u001b[1;33m\u001b[0m\u001b[1;33m\u001b[0m\u001b[0m\n\u001b[0m\u001b[0;32m      4\u001b[0m \u001b[0mimg_ones\u001b[0m\u001b[1;33m=\u001b[0m\u001b[0mload_img_seq\u001b[0m\u001b[1;33m(\u001b[0m\u001b[0mos\u001b[0m\u001b[1;33m.\u001b[0m\u001b[0mpath\u001b[0m\u001b[1;33m.\u001b[0m\u001b[0mjoin\u001b[0m\u001b[1;33m(\u001b[0m\u001b[0mpath_to_img_data\u001b[0m\u001b[1;33m,\u001b[0m \u001b[1;34m'1'\u001b[0m\u001b[1;33m)\u001b[0m\u001b[1;33m)\u001b[0m\u001b[1;33m\u001b[0m\u001b[1;33m\u001b[0m\u001b[0m\n\u001b[0;32m      5\u001b[0m \u001b[1;33m\u001b[0m\u001b[0m\n",
      "\u001b[1;32m<ipython-input-7-476ad3e682f8>\u001b[0m in \u001b[0;36mload_img_seq\u001b[1;34m(file_path, format)\u001b[0m\n\u001b[0;32m     42\u001b[0m \u001b[1;33m\u001b[0m\u001b[0m\n\u001b[0;32m     43\u001b[0m \u001b[1;32mdef\u001b[0m \u001b[0mload_img_seq\u001b[0m\u001b[1;33m(\u001b[0m\u001b[0mfile_path\u001b[0m\u001b[1;33m,\u001b[0m \u001b[0mformat\u001b[0m\u001b[1;33m=\u001b[0m\u001b[1;34m'.png'\u001b[0m\u001b[1;33m)\u001b[0m\u001b[1;33m:\u001b[0m\u001b[1;33m\u001b[0m\u001b[1;33m\u001b[0m\u001b[0m\n\u001b[1;32m---> 44\u001b[1;33m     \u001b[0mimg_names\u001b[0m \u001b[1;33m=\u001b[0m \u001b[1;33m[\u001b[0m\u001b[0mnm\u001b[0m \u001b[1;32mfor\u001b[0m \u001b[0mnm\u001b[0m \u001b[1;32min\u001b[0m \u001b[0mos\u001b[0m\u001b[1;33m.\u001b[0m\u001b[0mlistdir\u001b[0m\u001b[1;33m(\u001b[0m\u001b[0mfile_path\u001b[0m\u001b[1;33m)\u001b[0m \u001b[1;32mif\u001b[0m \u001b[0mformat\u001b[0m \u001b[1;32min\u001b[0m \u001b[0mnm\u001b[0m\u001b[1;33m]\u001b[0m  \u001b[1;31m# make sure to only load .png\u001b[0m\u001b[1;33m\u001b[0m\u001b[1;33m\u001b[0m\u001b[0m\n\u001b[0m\u001b[0;32m     45\u001b[0m     \u001b[0mimg_names\u001b[0m\u001b[1;33m.\u001b[0m\u001b[0msort\u001b[0m\u001b[1;33m(\u001b[0m\u001b[1;33m)\u001b[0m  \u001b[1;31m# sort file names\u001b[0m\u001b[1;33m\u001b[0m\u001b[1;33m\u001b[0m\u001b[0m\n\u001b[0;32m     46\u001b[0m     \u001b[0mic\u001b[0m \u001b[1;33m=\u001b[0m \u001b[0mskimage\u001b[0m\u001b[1;33m.\u001b[0m\u001b[0mio\u001b[0m\u001b[1;33m.\u001b[0m\u001b[0mimread_collection\u001b[0m\u001b[1;33m(\u001b[0m\u001b[1;33m[\u001b[0m\u001b[0mos\u001b[0m\u001b[1;33m.\u001b[0m\u001b[0mpath\u001b[0m\u001b[1;33m.\u001b[0m\u001b[0mjoin\u001b[0m\u001b[1;33m(\u001b[0m\u001b[0mfile_path\u001b[0m\u001b[1;33m,\u001b[0m \u001b[0mnm\u001b[0m\u001b[1;33m)\u001b[0m \u001b[1;32mfor\u001b[0m \u001b[0mnm\u001b[0m \u001b[1;32min\u001b[0m \u001b[0mimg_names\u001b[0m\u001b[1;33m]\u001b[0m\u001b[1;33m)\u001b[0m\u001b[1;33m\u001b[0m\u001b[1;33m\u001b[0m\u001b[0m\n",
      "\u001b[1;31mFileNotFoundError\u001b[0m: [WinError 3] The system cannot find the path specified: './lab-02-data/part1/0'"
     ]
    }
   ],
   "source": [
    "#load image stacks\n",
    "path_to_img_data='./lab-02-data/part1/'\n",
    "img_zeros=load_img_seq(os.path.join(path_to_img_data, '0'))\n",
    "img_ones=load_img_seq(os.path.join(path_to_img_data, '1'))\n",
    "\n",
    "#skeletonize stacks\n",
    "skel_zeros=skel_img_stack(img_zeros)\n",
    "skel_ones=skel_img_stack(img_ones)\n",
    "\n",
    "#plot skeletons of glyphs\n",
    "fig, axes = plt.subplots(2, len(skel_ones), figsize=(12, 3))\n",
    "for ax, im in zip(axes[0], skel_zeros):\n",
    "    ax.imshow(im, cmap='gray')\n",
    "    ax.axis('off')\n",
    "for ax, im in zip(axes[1], skel_ones):\n",
    "    ax.imshow(im, cmap='gray')\n",
    "    ax.axis('off')"
   ]
  },
  {
   "cell_type": "markdown",
   "metadata": {
    "nteract": {
     "transient": {
      "deleting": false
     }
    }
   },
   "source": [
    "## Extract features\n",
    " two features could be the two inertias along the principal axes of the object.\n",
    " Knowing that some _ones_ are more than just a line and have a given width\n",
    " which is comparable with that of the _zeros_, one may expect this features to fail when comparing the two classes.\n",
    " So this may not be the best features to extract\n",
    "\n"
   ]
  },
  {
   "cell_type": "code",
   "execution_count": null,
   "metadata": {
    "nteract": {
     "transient": {
      "deleting": false
     }
    },
    "outputExpanded": false
   },
   "outputs": [],
   "source": [
    "Lambda_zeros=[]\n",
    "Lambda_ones=[]\n",
    "\n",
    "for i in range(len(skel_zeros)):\n",
    "    # find eigenvalues (inertia) of zeros along principal axis\n",
    "    Lambda,_=np.linalg.eig(object_covar_mat(skel_zeros[i]))\n",
    "    Lambda_zeros.append(Lambda)\n",
    "\n",
    "    #do the same for ones\n",
    "    Lambda,_=np.linalg.eig(object_covar_mat(skel_ones[i]))\n",
    "    Lambda_ones.append(Lambda)\n"
   ]
  },
  {
   "cell_type": "markdown",
   "metadata": {
    "nteract": {
     "transient": {
      "deleting": false
     }
    }
   },
   "source": [
    "## Analysis:\n",
    " As expected, the classes are not completly separable and overlap as we can see\n",
    " in the plot below. This means that those are not good features to separate this\n",
    " two objects one from the other. Indeed the two _ones_ which are a bit larger are\n",
    " confused with zeros wich are a bit slimmer... We can see from this that this approach would\n",
    " probably work just fine if the _ones_ where all simple lines. Indeed, the ones\n",
    " which are a line present the second inertia to be negligible compared to that of a\n",
    " _zero_. Pruning the skeleton could improve the separation between the two classes\n"
   ]
  },
  {
   "cell_type": "code",
   "execution_count": null,
   "metadata": {
    "collapsed": true,
    "jupyter": {
     "outputs_hidden": true,
     "source_hidden": false
    },
    "nteract": {
     "transient": {
      "deleting": false
     }
    },
    "outputExpanded": false
   },
   "outputs": [],
   "source": [
    "#plot found values\n",
    "i=0\n",
    "for [x,y] in Lambda_ones:\n",
    "    if i==0:\n",
    "        plt.plot(x,y,'.r',label='ones')\n",
    "        i+=1\n",
    "    else:\n",
    "        plt.plot(x,y,'.r')\n",
    "i=0\n",
    "for [x,y] in Lambda_zeros:\n",
    "    if i==0:\n",
    "        plt.plot(x,y,'.b',label='zeros')\n",
    "        i+=1\n",
    "    else:\n",
    "        plt.plot(x,y,'.b')\n",
    "\n",
    "plt.title(\"Inertia along principal axes of object\")\n",
    "plt.xlabel(\"u1\")\n",
    "plt.ylabel(\"u2\")\n",
    "plt.legend()\n",
    "plt.show()\n"
   ]
  },
  {
   "cell_type": "markdown",
   "metadata": {
    "nteract": {
     "transient": {
      "deleting": false
     }
    }
   },
   "source": [
    "## Other features:\n",
    " other features, leaving aside the Fourier Descriptors, could be the fact that the\n",
    " _ones_ present no loop, wherease _zeros_ do. This however would pose problems\n",
    " for the classification of other characters like _6_ and _8_ for example if\n",
    " used as only feature. Additionally, features like the distance to a reference char could be a\n",
    " good option as well. In the following code the approach of the realtive distance to\n",
    " a give nreference image is used as feature. So the first step is to generate a\n",
    " reference image and its dis map\n"
   ]
  },
  {
   "cell_type": "code",
   "execution_count": null,
   "metadata": {
    "collapsed": true,
    "jupyter": {
     "outputs_hidden": true,
     "source_hidden": false
    },
    "nteract": {
     "transient": {
      "deleting": false
     }
    },
    "outputExpanded": false
   },
   "outputs": [],
   "source": [
    "#read and plot reference images\n",
    "ref_path='./lab02/lab-02-data/ref/'\n",
    "ref_zero=skimage.io.imread(os.path.join(ref_path,'reference0.png'))\n",
    "ref_one=skimage.io.imread(os.path.join(ref_path,'reference1.png'))\n",
    "#plot reference images\n",
    "fig, ax = plt.subplots(1, 2, figsize=(6, 6))\n",
    "ax[0].imshow(ref_zero)\n",
    "ax[1].imshow(ref_one)\n",
    "ax[0].set_title('Reference zero')\n",
    "ax[0].axis('off')\n",
    "ax[1].set_title('Reference one')\n",
    "ax[1].axis('off')\n",
    "\n",
    "#skeletonize and plot ref images\n",
    "ref_zero=skel_and_thld(ref_zero)\n",
    "ref_one=skel_and_thld(ref_one)\n",
    "#plot reference skeletons\n",
    "fig, ax = plt.subplots(1, 2, figsize=(6, 6))\n",
    "ax[0].imshow(ref_zero)\n",
    "ax[1].imshow(ref_one)\n",
    "ax[0].set_title('Reference zero')\n",
    "ax[0].axis('off')\n",
    "ax[1].set_title('Reference one')\n",
    "ax[1].axis('off')\n",
    "\n",
    "#create and plot distance map\n",
    "zero_dist_map=dist_map(ref_zero.astype(int))\n",
    "one_dist_map=dist_map(ref_one.astype(int))\n",
    "#plot distance map\n",
    "fig, ax = plt.subplots(1, 2, figsize=(6, 6))\n",
    "ax[0].imshow(zero_dist_map)\n",
    "ax[1].imshow(one_dist_map)\n",
    "ax[0].set_title('Reference zero')\n",
    "ax[0].axis('off')\n",
    "ax[1].set_title('Reference one')\n",
    "ax[1].axis('off')\n"
   ]
  },
  {
   "cell_type": "markdown",
   "metadata": {
    "nteract": {
     "transient": {
      "deleting": false
     }
    }
   },
   "source": [
    "## Comparison:\n",
    " now that the maps have been created it is time to compare the mean distances\n",
    " considered as features here: Note that dx0 is average ditance of object _x_ to the _zeros_ and dx1 is defined\n",
    " accordingly for the _ones_ in the next section of code"
   ]
  },
  {
   "cell_type": "code",
   "execution_count": null,
   "metadata": {
    "collapsed": true,
    "jupyter": {
     "outputs_hidden": true,
     "source_hidden": false
    },
    "nteract": {
     "transient": {
      "deleting": false
     }
    },
    "outputExpanded": false
   },
   "outputs": [],
   "source": [
    "d11=[]\n",
    "d10=[]\n",
    "\n",
    "for img in skel_ones:\n",
    "    #center objects:\n",
    "    x_com,y_com=com(img)\n",
    "    img=np.roll(img,(int(x_com),int(y_com)))\n",
    "    #compute total number of pixels of object\n",
    "    N=np.sum(img)\n",
    "    #compute average distance\n",
    "    d10.append(np.sum(zero_dist_map[img])/N)\n",
    "    d11.append(np.sum(one_dist_map[img])/N)\n",
    "\n",
    "d01=[]\n",
    "d00=[]\n",
    "\n",
    "for img in skel_zeros:\n",
    "    #center objects:\n",
    "    x_com,y_com=com(img)\n",
    "    img=np.roll(img,(int(x_com),int(y_com)))\n",
    "    #compute total number of pixels of object\n",
    "    N=np.sum(img)\n",
    "    #compute average distance\n",
    "    d00.append(np.sum(zero_dist_map[img])/N)\n",
    "    d01.append(np.sum(one_dist_map[img])/N)\n"
   ]
  },
  {
   "cell_type": "markdown",
   "metadata": {
    "nteract": {
     "transient": {
      "deleting": false
     }
    }
   },
   "source": [
    "## Analysis:\n",
    " the result of this feature analysis shows that those features could be used to\n",
    " linearly separate the two glyphs one fro the other. Indeed, as one would expect, the _zeros_ show greater\n",
    " distance to the reference _one_ and a smaller deistance to the reference _zero_,\n",
    " and the same reasoning applies for the _ones_ which show greater proximity to the\n",
    " reference _one_ rather than the reference _zero_. The result is shown below.\n",
    " From this we can conclude that it is important to carefully choose the features\n",
    " if a good separation needs to be achived. Indeed in the example above the inertia of the\n",
    " object alone does not suffice to classify the different objects without mistakes,\n",
    " wherease this approach of realtive distances is more promising in this case.\n"
   ]
  },
  {
   "cell_type": "code",
   "execution_count": null,
   "metadata": {
    "collapsed": true,
    "jupyter": {
     "outputs_hidden": true,
     "source_hidden": false
    },
    "nteract": {
     "transient": {
      "deleting": false
     }
    },
    "outputExpanded": false
   },
   "outputs": [],
   "source": [
    "plt.plot(d00,d01,'.b',label='zeros')\n",
    "plt.plot(d10,d11,'.r',label='ones')\n",
    "plt.xlabel('Distance from object to reference \"0\"')\n",
    "plt.ylabel('Distance from object to reference \"1\"')\n",
    "plt.title(\"Distance to reference glyphs\")\n",
    "plt.legend()\n",
    "plt.show()"
   ]
  }
 ],
 "metadata": {
  "kernelspec": {
   "display_name": "Python 3",
   "language": "python",
   "name": "python3"
  },
  "language_info": {
   "codemirror_mode": {
    "name": "ipython",
    "version": 3
   },
   "file_extension": ".py",
   "mimetype": "text/x-python",
   "name": "python",
   "nbconvert_exporter": "python",
   "pygments_lexer": "ipython3",
   "version": "3.7.6"
  }
 },
 "nbformat": 4,
 "nbformat_minor": 4
}
