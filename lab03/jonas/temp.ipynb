{
  "cells": [
    {
      "cell_type": "markdown",
      "source": [
        "# [IAPR 2020:][iapr2020] Lab 3 ‒  Classification\n",
        "\n",
        "**Author:** first_name_1 last_name_1, first_name_2 last_name_2, first_name_3 last_name_3\n",
        "**Due date:** 08.05.2020\n",
        "\n",
        "[iapr2018]: https://github.com/LTS5/iapr-2018"
      ],
      "metadata": {
        "nteract": {
          "transient": {
            "deleting": false
          }
        }
      }
    },
    {
      "cell_type": "markdown",
      "source": [
        "## Extract relevant data\n",
        "We first need to extract the `lab-03-data.tar.gz` archive.\n",
        "To this end, we use the [tarfile] module from the Python standard library.\n",
        "\n",
        "[tarfile]: https://docs.python.org/3.6/library/tarfile.html"
      ],
      "metadata": {
        "nteract": {
          "transient": {
            "deleting": false
          }
        }
      }
    },
    {
      "cell_type": "code",
      "source": [
        "import tarfile\n",
        "import os\n",
        "\n",
        "data_base_path = os.path.join(os.pardir, 'data')\n",
        "data_folder = 'lab-03-data'\n",
        "tar_path = os.path.join(data_base_path, data_folder + '.tar.gz')\n",
        "with tarfile.open(tar_path, mode='r:gz') as tar:\n",
        "    tar.extractall(path=data_base_path)"
      ],
      "outputs": [],
      "execution_count": null,
      "metadata": {
        "collapsed": true,
        "outputExpanded": false,
        "jupyter": {
          "source_hidden": false,
          "outputs_hidden": false
        },
        "nteract": {
          "transient": {
            "deleting": false
          }
        }
      }
    },
    {
      "cell_type": "markdown",
      "source": [
        "## Part 1\n",
        "In this part, we will study classification based on the data available in the Matlab file `classification.mat` that you will under `lab-03-data/part1`.\n",
        "There are 3 data sets in this file, each one being a training set for a given class.\n",
        "They are contained in variables `a`, `b` and `c`.\n",
        "\n",
        "**Note**: we can load Matlab files using the [scipy.io] module.\n",
        "\n",
        "[scipy.io]: https://docs.scipy.org/doc/scipy/reference/io.html"
      ],
      "metadata": {
        "nteract": {
          "transient": {
            "deleting": false
          }
        }
      }
    },
    {
      "cell_type": "code",
      "source": [
        "import scipy.io\n",
        "\n",
        "data_part1_path = os.path.join(data_base_path, data_folder, 'part1', 'classification.mat')\n",
        "matfile = scipy.io.loadmat(data_part1_path)\n",
        "a = matfile['a']\n",
        "b = matfile['b']\n",
        "c = matfile['c']\n",
        "\n",
        "print(a.shape, b.shape, c.shape)"
      ],
      "outputs": [],
      "execution_count": null,
      "metadata": {
        "collapsed": true,
        "outputExpanded": false,
        "jupyter": {
          "source_hidden": false,
          "outputs_hidden": false
        },
        "nteract": {
          "transient": {
            "deleting": false
          }
        }
      }
    },
    {
      "cell_type": "markdown",
      "source": [
        "### 1.1 Bayes method\n",
        "Using the Bayes method, give the analytical expression of the separation curves between those three classes.\n",
        "Do reasonable hypotheses about the distributions of those classes and estimate the corresponding parameters based on the given training sets.\n",
        "Draw those curves on a plot, together with the training data.\n",
        "For simplicity reasons, round the estimated parameters to the closest integer value.\n",
        "\n",
        "*Add your implementation and discussion*"
      ],
      "metadata": {
        "nteract": {
          "transient": {
            "deleting": false
          }
        }
      }
    },
    {
      "cell_type": "markdown",
      "source": [
        "### 1.2 Mahalanobis distance\n",
        "For classes `a` and `b`, give the expression of the Mahalanobis distance used to classify a point in class `a` or `b`, and verify the obtained classification, in comparison with the \"complete\" Bayes classification, for a few points of the plane.\n",
        "\n",
        "*Add your implementation and discussion*"
      ],
      "metadata": {
        "nteract": {
          "transient": {
            "deleting": false
          }
        }
      }
    },
    {
      "cell_type": "markdown",
      "source": [
        "## Part 2\n",
        "In this part, we aim to classify digits using the complete version of MNIST digits dataset.\n",
        "The dataset consists of 60'000 training images and 10'000 test images of handwritten digits.\n",
        "Each image has size 28x28, and has assigned a label from zero to nine, denoting the digits value.\n",
        "Given this data, your task is to construct a Multilayer Perceptron (MLP) for supervised training and classification and evaluate it on the test images.\n",
        "\n",
        "Download the MNIST dataset (all 4 files) from http://yann.lecun.com/exdb/mnist/ under `lab-03-data/part2`.\n",
        "You can then use the script provided below to extract and load training and testing images in Python.\n",
        "\n",
        "To create an MLP you are free to choose any library.\n",
        "In case you don't have any preferences, we encourage you to use the [scikit-learn] package; it is a simple, efficient and free tool for data analysis and machine learning.\n",
        "In this [link][sklearn-example], you can find a basic example to see how to create and train an MLP using [scikit-learn].\n",
        "Your network should have the following properties:\n",
        "* Input `x`: 784-dimensional (i.e. 784 visible units representing the flattened 28x28 pixel images).\n",
        "* 100 hidden units `h`.\n",
        "* 10 output units `y`, i.e. the labels, with a value close to one in the i-th class representing a high probability of the input representing the digit `i`.\n",
        "\n",
        "If you need additional examples you can borrow some code from image classification tutorials.\n",
        "However, we recommend that you construct a minimal version of the network on your own to gain better insights.\n",
        "\n",
        "[scikit-learn]: http://scikit-learn.org/stable/index.html\n",
        "[sklearn-example]: http://scikit-learn.org/stable/modules/neural_networks_supervised.html"
      ],
      "metadata": {
        "nteract": {
          "transient": {
            "deleting": false
          }
        }
      }
    },
    {
      "cell_type": "markdown",
      "source": [
        "### 2.1 Dataset loading\n",
        "Here we first declare the methods `extract_data` and `extract_labels` so that we can reuse them later in the code.\n",
        "Then we extract both the data and corresponding labels, and plot randomly some images and corresponding labels of the training set."
      ],
      "metadata": {
        "nteract": {
          "transient": {
            "deleting": false
          }
        }
      }
    },
    {
      "cell_type": "code",
      "source": [
        "import gzip\n",
        "import numpy as np\n",
        "import matplotlib.pyplot as plt\n",
        "\n",
        "def extract_data(filename, image_shape, image_number):\n",
        "    with gzip.open(filename) as bytestream:\n",
        "        bytestream.read(16)\n",
        "        buf = bytestream.read(np.prod(image_shape) * image_number)\n",
        "        data = np.frombuffer(buf, dtype=np.uint8).astype(np.float32)\n",
        "        data = data.reshape(image_number, image_shape[0], image_shape[1])\n",
        "    return data\n",
        "\n",
        "\n",
        "def extract_labels(filename, image_number):\n",
        "    with gzip.open(filename) as bytestream:\n",
        "        bytestream.read(8)\n",
        "        buf = bytestream.read(1 * image_number)\n",
        "        labels = np.frombuffer(buf, dtype=np.uint8).astype(np.int64)\n",
        "    return labels"
      ],
      "outputs": [],
      "execution_count": null,
      "metadata": {
        "collapsed": true,
        "outputExpanded": false,
        "jupyter": {
          "source_hidden": false,
          "outputs_hidden": false
        },
        "nteract": {
          "transient": {
            "deleting": false
          }
        }
      }
    },
    {
      "cell_type": "code",
      "source": [
        "image_shape = (28, 28)\n",
        "train_set_size = 60000\n",
        "test_set_size = 10000\n",
        "\n",
        "data_part2_folder = os.path.join(data_base_path, data_folder, 'part2')\n",
        "\n",
        "train_images_path = os.path.join(data_part2_folder, 'train-images-idx3-ubyte.gz')\n",
        "train_labels_path = os.path.join(data_part2_folder, 'train-labels-idx1-ubyte.gz')\n",
        "test_images_path = os.path.join(data_part2_folder, 't10k-images-idx3-ubyte.gz')\n",
        "test_labels_path = os.path.join(data_part2_folder, 't10k-labels-idx1-ubyte.gz')\n",
        "\n",
        "train_images = extract_data(train_images_path, image_shape, train_set_size)\n",
        "test_images = extract_data(test_images_path, image_shape, test_set_size)\n",
        "train_labels = extract_labels(train_labels_path, train_set_size)\n",
        "test_labels = extract_labels(test_labels_path, test_set_size)"
      ],
      "outputs": [],
      "execution_count": null,
      "metadata": {
        "collapsed": true,
        "outputExpanded": false,
        "jupyter": {
          "source_hidden": false,
          "outputs_hidden": false
        },
        "nteract": {
          "transient": {
            "deleting": false
          }
        }
      }
    },
    {
      "cell_type": "code",
      "source": [
        "prng = np.random.RandomState(seed=123456789)  # seed to always re-draw the same distribution\n",
        "plt_ind = prng.randint(low=0, high=train_set_size, size=10)\n",
        "\n",
        "fig, axes = plt.subplots(1, 10, figsize=(12, 3))\n",
        "for ax, im, lb in zip(axes, train_images[plt_ind], train_labels[plt_ind]):\n",
        "    ax.imshow(im, cmap='gray')\n",
        "    ax.axis('off')\n",
        "    ax.set_title(lb)"
      ],
      "outputs": [],
      "execution_count": null,
      "metadata": {
        "collapsed": true,
        "outputExpanded": false,
        "jupyter": {
          "source_hidden": false,
          "outputs_hidden": false
        },
        "nteract": {
          "transient": {
            "deleting": false
          }
        }
      }
    },
    {
      "cell_type": "markdown",
      "source": [
        "### 2.2 MLP\n",
        "The difficult part about a MLP is it creation from scratch, implementing the\n",
        "activation functions, backpropagation and so forth. But if done correclty, once\n",
        "such a class is completed, it is easy to implement. This can be seen in the\n",
        "code below, wich uses the MLP class of scikit-learn. Here it is important to\n",
        "understand the data format that is fed to the NN to make it work correctly.\n",
        "Additionally it is useful to knoww how the different parameters can be changed.\n",
        "Looking at the default values of the classifier we see that the only hidden\n",
        "layer set by default has alread 100 neurons, wich is what is required for this\n",
        "exercise (so no modification is needed). The input layer is defined through\n",
        "dimention of the samples (28x28=784) and similarly the output layer is defined\n",
        "by the number of nuique labels.\n"
      ],
      "metadata": {
        "nteract": {
          "transient": {
            "deleting": false
          }
        }
      }
    },
    {
      "cell_type": "markdown",
      "source": [
        "## FUNC DEF"
      ],
      "metadata": {
        "nteract": {
          "transient": {
            "deleting": false
          }
        }
      }
    },
    {
      "cell_type": "code",
      "source": [
        "def arr2vec(arr):\n",
        "    vec=np.reshape(arr, arr.size)\n",
        "    return vec\n",
        "\n",
        "def rearrange_img_stack(img_stack,z_stack=True):\n",
        "    if z_stack:\n",
        "        nx,ny,nz=img_stack.shape\n",
        "    else:\n",
        "        nz,nx,ny=img_stack.shape\n",
        "\n",
        "    img_arr=np.zeros((nz,nx*ny))\n",
        "\n",
        "    for z in range(nz):\n",
        "        if z_stack:\n",
        "            img_arr[z,:]=arr2vec(img_stack[:,:,z])\n",
        "        else:\n",
        "            img_arr[z,:]=arr2vec(img_stack[z])\n",
        "    return img_arr\n"
      ],
      "outputs": [],
      "execution_count": null,
      "metadata": {
        "collapsed": true,
        "outputExpanded": false,
        "jupyter": {
          "source_hidden": false,
          "outputs_hidden": false
        },
        "nteract": {
          "transient": {
            "deleting": false
          }
        }
      }
    },
    {
      "cell_type": "markdown",
      "source": [
        "Before using a NN one needs to train it. This is done by calling the code line\n",
        "`MLP.fit(X,y)`\n"
      ],
      "metadata": {
        "nteract": {
          "transient": {
            "deleting": false
          }
        }
      }
    },
    {
      "cell_type": "code",
      "source": [
        "from sklearn.neural_network import MLPClassifier\n",
        "\n",
        "#prepare data\n",
        "X=rearrange_img_stack(train_images,z_stack=False)\n",
        "y=train_labels\n",
        "#define classifier object\n",
        "MLP=MLPClassifier()\n",
        "#train MLP\n",
        "MLP.fit(X,y)\n"
      ],
      "outputs": [],
      "execution_count": null,
      "metadata": {
        "collapsed": true,
        "outputExpanded": false,
        "jupyter": {
          "source_hidden": false,
          "outputs_hidden": false
        },
        "nteract": {
          "transient": {
            "deleting": false
          }
        }
      }
    },
    {
      "cell_type": "markdown",
      "source": [
        "Now it is time to test the neural network's performances:\n"
      ],
      "metadata": {
        "nteract": {
          "transient": {
            "deleting": false
          }
        }
      }
    },
    {
      "cell_type": "code",
      "source": [
        "X_test=rearrange_img_stack(test_images,z_stack=False)\n",
        "y_test=test_labels\n",
        "y_est=MLP.predict(X_test)\n",
        "\n",
        "#compute percentage of correct labels\n",
        "corr_pc=100*np.sum(y_est==y_test)/y_test.size\n",
        "print(\"%.2f%s of the estimated labels are correct\" %(corr_pc,'%'))\n",
        "#plot 10 random images from test set with the estimated labels\n",
        "plt_ind = prng.randint(low=0, high=test_set_size, size=10)\n",
        "\n",
        "fig, axes = plt.subplots(1, 10, figsize=(12, 3))\n",
        "for ax, im, lb in zip(axes, test_images[plt_ind], y_est[plt_ind]):\n",
        "    ax.imshow(im, cmap='copper')\n",
        "    ax.axis('off')\n",
        "    ax.set_title(lb)"
      ],
      "outputs": [],
      "execution_count": null,
      "metadata": {
        "collapsed": true,
        "outputExpanded": false,
        "jupyter": {
          "source_hidden": false,
          "outputs_hidden": false
        },
        "nteract": {
          "transient": {
            "deleting": false
          }
        }
      }
    }
  ],
  "metadata": {
    "kernelspec": {
      "argv": [
        "python",
        "-m",
        "ipykernel_launcher",
        "-f",
        "{connection_file}"
      ],
      "display_name": "Python 3",
      "language": "python",
      "name": "python3"
    }
  },
  "nbformat": 4,
  "nbformat_minor": 0
}